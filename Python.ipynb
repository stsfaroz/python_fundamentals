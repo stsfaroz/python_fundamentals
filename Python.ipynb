{
 "cells": [
  {
   "cell_type": "code",
   "execution_count": null,
   "id": "9c73401d",
   "metadata": {},
   "outputs": [],
   "source": []
  },
  {
   "cell_type": "markdown",
   "id": "d3ae0255",
   "metadata": {},
   "source": [
    "# VARIABLE "
   ]
  },
  {
   "cell_type": "code",
   "execution_count": 3,
   "id": "2cf5cfa3",
   "metadata": {},
   "outputs": [
    {
     "name": "stdout",
     "output_type": "stream",
     "text": [
      "salman\n"
     ]
    }
   ],
   "source": [
    "name='salman'\n",
    "print(name)"
   ]
  },
  {
   "cell_type": "code",
   "execution_count": 4,
   "id": "650b0436",
   "metadata": {},
   "outputs": [
    {
     "data": {
      "text/plain": [
       "str"
      ]
     },
     "execution_count": 4,
     "metadata": {},
     "output_type": "execute_result"
    }
   ],
   "source": [
    "type(name)"
   ]
  },
  {
   "cell_type": "code",
   "execution_count": 9,
   "id": "557518af",
   "metadata": {},
   "outputs": [
    {
     "name": "stdout",
     "output_type": "stream",
     "text": [
      "25\n"
     ]
    }
   ],
   "source": [
    "age='25'\n",
    "print(age)"
   ]
  },
  {
   "cell_type": "code",
   "execution_count": 10,
   "id": "a84ffad7",
   "metadata": {},
   "outputs": [
    {
     "data": {
      "text/plain": [
       "str"
      ]
     },
     "execution_count": 10,
     "metadata": {},
     "output_type": "execute_result"
    }
   ],
   "source": [
    "type(age)"
   ]
  },
  {
   "cell_type": "code",
   "execution_count": 11,
   "id": "5f76c641",
   "metadata": {},
   "outputs": [
    {
     "ename": "TypeError",
     "evalue": "can only concatenate str (not \"int\") to str",
     "output_type": "error",
     "traceback": [
      "\u001b[1;31m---------------------------------------------------------------------------\u001b[0m",
      "\u001b[1;31mTypeError\u001b[0m                                 Traceback (most recent call last)",
      "\u001b[1;32m~\\AppData\\Local\\Temp\\ipykernel_16084\\2666390966.py\u001b[0m in \u001b[0;36m<module>\u001b[1;34m\u001b[0m\n\u001b[1;32m----> 1\u001b[1;33m \u001b[0mage\u001b[0m\u001b[1;33m+\u001b[0m\u001b[1;36m4\u001b[0m\u001b[1;33m\u001b[0m\u001b[1;33m\u001b[0m\u001b[0m\n\u001b[0m",
      "\u001b[1;31mTypeError\u001b[0m: can only concatenate str (not \"int\") to str"
     ]
    }
   ],
   "source": [
    "age+4"
   ]
  },
  {
   "cell_type": "code",
   "execution_count": null,
   "id": "7243ebd6",
   "metadata": {},
   "outputs": [],
   "source": []
  },
  {
   "cell_type": "code",
   "execution_count": 12,
   "id": "74ca2cf2",
   "metadata": {},
   "outputs": [
    {
     "name": "stdout",
     "output_type": "stream",
     "text": [
      "25\n"
     ]
    }
   ],
   "source": [
    "age=25\n",
    "print(age)"
   ]
  },
  {
   "cell_type": "code",
   "execution_count": 13,
   "id": "cffa4da9",
   "metadata": {},
   "outputs": [
    {
     "data": {
      "text/plain": [
       "int"
      ]
     },
     "execution_count": 13,
     "metadata": {},
     "output_type": "execute_result"
    }
   ],
   "source": [
    "type(age)"
   ]
  },
  {
   "cell_type": "code",
   "execution_count": 14,
   "id": "95306863",
   "metadata": {},
   "outputs": [
    {
     "data": {
      "text/plain": [
       "32"
      ]
     },
     "execution_count": 14,
     "metadata": {},
     "output_type": "execute_result"
    }
   ],
   "source": [
    "age+7"
   ]
  },
  {
   "cell_type": "markdown",
   "id": "45e24bd6",
   "metadata": {},
   "source": [
    "# ----------------------------------------------------------------------------------------------------------------"
   ]
  },
  {
   "cell_type": "code",
   "execution_count": null,
   "id": "f4e51ced",
   "metadata": {},
   "outputs": [],
   "source": []
  },
  {
   "cell_type": "code",
   "execution_count": 15,
   "id": "f830cf88",
   "metadata": {},
   "outputs": [
    {
     "name": "stdout",
     "output_type": "stream",
     "text": [
      "25\n"
     ]
    }
   ],
   "source": [
    "x=25\n",
    "print(x) "
   ]
  },
  {
   "cell_type": "code",
   "execution_count": 16,
   "id": "7a8c9f40",
   "metadata": {},
   "outputs": [
    {
     "data": {
      "text/plain": [
       "140719398167712"
      ]
     },
     "execution_count": 16,
     "metadata": {},
     "output_type": "execute_result"
    }
   ],
   "source": [
    "id(x)"
   ]
  },
  {
   "cell_type": "code",
   "execution_count": 17,
   "id": "79a16bb7",
   "metadata": {},
   "outputs": [
    {
     "name": "stdout",
     "output_type": "stream",
     "text": [
      "25\n"
     ]
    }
   ],
   "source": [
    "y=25\n",
    "print(y) "
   ]
  },
  {
   "cell_type": "code",
   "execution_count": 18,
   "id": "e0a747da",
   "metadata": {},
   "outputs": [
    {
     "data": {
      "text/plain": [
       "140719398167712"
      ]
     },
     "execution_count": 18,
     "metadata": {},
     "output_type": "execute_result"
    }
   ],
   "source": [
    "id(y)"
   ]
  },
  {
   "cell_type": "code",
   "execution_count": 19,
   "id": "5032df4e",
   "metadata": {},
   "outputs": [
    {
     "name": "stdout",
     "output_type": "stream",
     "text": [
      "26\n"
     ]
    }
   ],
   "source": [
    "z=26\n",
    "print(z) "
   ]
  },
  {
   "cell_type": "code",
   "execution_count": 20,
   "id": "c06eab8d",
   "metadata": {},
   "outputs": [
    {
     "data": {
      "text/plain": [
       "140719398167744"
      ]
     },
     "execution_count": 20,
     "metadata": {},
     "output_type": "execute_result"
    }
   ],
   "source": [
    "id(z)"
   ]
  },
  {
   "cell_type": "code",
   "execution_count": 21,
   "id": "7ec1f3e0",
   "metadata": {},
   "outputs": [],
   "source": [
    "w=x"
   ]
  },
  {
   "cell_type": "code",
   "execution_count": 22,
   "id": "b647e505",
   "metadata": {},
   "outputs": [
    {
     "data": {
      "text/plain": [
       "140719398167712"
      ]
     },
     "execution_count": 22,
     "metadata": {},
     "output_type": "execute_result"
    }
   ],
   "source": [
    "id(w)"
   ]
  },
  {
   "cell_type": "code",
   "execution_count": null,
   "id": "cc579f96",
   "metadata": {},
   "outputs": [],
   "source": []
  },
  {
   "cell_type": "code",
   "execution_count": null,
   "id": "f5de1cb7",
   "metadata": {},
   "outputs": [],
   "source": []
  },
  {
   "cell_type": "markdown",
   "id": "e00f622e",
   "metadata": {},
   "source": [
    "# ----------------------------------------------------------------------------------------------------------------"
   ]
  },
  {
   "cell_type": "markdown",
   "id": "8ecc940c",
   "metadata": {},
   "source": [
    "# Rules for variable"
   ]
  },
  {
   "cell_type": "markdown",
   "id": "591cbfab",
   "metadata": {},
   "source": [
    "# * var name cannot be python keyword "
   ]
  },
  {
   "attachments": {
    "image.png": {
     "image/png": "[encoded data removed]"
    }
   },
   "cell_type": "markdown",
   "id": "570f8646",
   "metadata": {},
   "source": [
    "##### As of Python 3.8\n",
    "\n",
    "![image.png](attachment:image.png)\n",
    "\n",
    "\n",
    "### credits : https://realpython.com/python-keywords/#the-former-print-keyword"
   ]
  },
  {
   "cell_type": "code",
   "execution_count": null,
   "id": "ce61144e",
   "metadata": {},
   "outputs": [],
   "source": []
  },
  {
   "cell_type": "code",
   "execution_count": null,
   "id": "8697e3fb",
   "metadata": {},
   "outputs": [],
   "source": [
    "as=3"
   ]
  },
  {
   "cell_type": "code",
   "execution_count": null,
   "id": "016c42d5",
   "metadata": {},
   "outputs": [],
   "source": [
    "# print and exec not keyword from python 3+ , they are changed to built in fucntion "
   ]
  },
  {
   "cell_type": "code",
   "execution_count": null,
   "id": "519d9029",
   "metadata": {},
   "outputs": [],
   "source": [
    "print=4"
   ]
  },
  {
   "cell_type": "code",
   "execution_count": null,
   "id": "ede68005",
   "metadata": {},
   "outputs": [],
   "source": [
    "print"
   ]
  },
  {
   "cell_type": "code",
   "execution_count": null,
   "id": "dca547ac",
   "metadata": {},
   "outputs": [],
   "source": [
    "print(print)"
   ]
  },
  {
   "cell_type": "code",
   "execution_count": null,
   "id": "2c456030",
   "metadata": {},
   "outputs": [],
   "source": [
    "#using keyword is not a good idea : if_"
   ]
  },
  {
   "cell_type": "code",
   "execution_count": null,
   "id": "654a60fd",
   "metadata": {},
   "outputs": [],
   "source": []
  },
  {
   "cell_type": "markdown",
   "id": "cf8fc555",
   "metadata": {},
   "source": [
    "# variable first character should be : letter or _"
   ]
  },
  {
   "cell_type": "code",
   "execution_count": 23,
   "id": "3fde08e4",
   "metadata": {},
   "outputs": [],
   "source": [
    "age=12"
   ]
  },
  {
   "cell_type": "code",
   "execution_count": 24,
   "id": "8d2d068b",
   "metadata": {},
   "outputs": [],
   "source": [
    "_age=12"
   ]
  },
  {
   "cell_type": "code",
   "execution_count": 25,
   "id": "65c33d57",
   "metadata": {},
   "outputs": [
    {
     "ename": "SyntaxError",
     "evalue": "invalid syntax (2221508990.py, line 1)",
     "output_type": "error",
     "traceback": [
      "\u001b[1;36m  File \u001b[1;32m\"C:\\Users\\faroz\\AppData\\Local\\Temp\\ipykernel_16084\\2221508990.py\"\u001b[1;36m, line \u001b[1;32m1\u001b[0m\n\u001b[1;33m    1age=12\u001b[0m\n\u001b[1;37m       ^\u001b[0m\n\u001b[1;31mSyntaxError\u001b[0m\u001b[1;31m:\u001b[0m invalid syntax\n"
     ]
    }
   ],
   "source": [
    "1age=12"
   ]
  },
  {
   "cell_type": "markdown",
   "id": "bab1590c",
   "metadata": {},
   "source": [
    "# After first character should be :  letter or number or _"
   ]
  },
  {
   "cell_type": "code",
   "execution_count": 26,
   "id": "a376173e",
   "metadata": {},
   "outputs": [],
   "source": [
    "N1=123"
   ]
  },
  {
   "cell_type": "code",
   "execution_count": 27,
   "id": "24a52aca",
   "metadata": {},
   "outputs": [],
   "source": [
    "n323f=34"
   ]
  },
  {
   "cell_type": "code",
   "execution_count": 28,
   "id": "276df4f6",
   "metadata": {},
   "outputs": [
    {
     "ename": "NameError",
     "evalue": "name 'n' is not defined",
     "output_type": "error",
     "traceback": [
      "\u001b[1;31m---------------------------------------------------------------------------\u001b[0m",
      "\u001b[1;31mNameError\u001b[0m                                 Traceback (most recent call last)",
      "\u001b[1;32m~\\AppData\\Local\\Temp\\ipykernel_16084\\1907443031.py\u001b[0m in \u001b[0;36m<module>\u001b[1;34m\u001b[0m\n\u001b[1;32m----> 1\u001b[1;33m \u001b[0mn\u001b[0m\u001b[1;33m^=\u001b[0m\u001b[1;36m23\u001b[0m\u001b[1;33m\u001b[0m\u001b[1;33m\u001b[0m\u001b[0m\n\u001b[0m",
      "\u001b[1;31mNameError\u001b[0m: name 'n' is not defined"
     ]
    }
   ],
   "source": [
    "n^=23"
   ]
  },
  {
   "cell_type": "markdown",
   "id": "d4f84e5d",
   "metadata": {},
   "source": [
    "# Case Sensitive"
   ]
  },
  {
   "cell_type": "code",
   "execution_count": 29,
   "id": "d7e95275",
   "metadata": {},
   "outputs": [
    {
     "name": "stdout",
     "output_type": "stream",
     "text": [
      "salman\n"
     ]
    }
   ],
   "source": [
    "name=\"salman\"\n",
    "print(name)"
   ]
  },
  {
   "cell_type": "code",
   "execution_count": 30,
   "id": "bd82c825",
   "metadata": {},
   "outputs": [
    {
     "name": "stdout",
     "output_type": "stream",
     "text": [
      "faroz\n"
     ]
    }
   ],
   "source": [
    "NAME=\"faroz\"\n",
    "print(NAME)\n"
   ]
  },
  {
   "cell_type": "code",
   "execution_count": 31,
   "id": "975ac7d7",
   "metadata": {},
   "outputs": [
    {
     "data": {
      "text/plain": [
       "2327051630128"
      ]
     },
     "execution_count": 31,
     "metadata": {},
     "output_type": "execute_result"
    }
   ],
   "source": [
    "id(name)"
   ]
  },
  {
   "cell_type": "code",
   "execution_count": 32,
   "id": "60f13a36",
   "metadata": {},
   "outputs": [
    {
     "data": {
      "text/plain": [
       "2327027308912"
      ]
     },
     "execution_count": 32,
     "metadata": {},
     "output_type": "execute_result"
    }
   ],
   "source": [
    "id(NAME)"
   ]
  },
  {
   "cell_type": "code",
   "execution_count": null,
   "id": "589f50fd",
   "metadata": {},
   "outputs": [],
   "source": [
    "# or Name , NAme , nAMe are different"
   ]
  },
  {
   "cell_type": "code",
   "execution_count": null,
   "id": "eac2ec80",
   "metadata": {},
   "outputs": [],
   "source": []
  },
  {
   "cell_type": "code",
   "execution_count": null,
   "id": "b0a4991f",
   "metadata": {},
   "outputs": [],
   "source": [
    "# be meaningful \n",
    "age=\"salman\""
   ]
  },
  {
   "cell_type": "code",
   "execution_count": null,
   "id": "01851064",
   "metadata": {},
   "outputs": [],
   "source": [
    "print(age)"
   ]
  },
  {
   "cell_type": "code",
   "execution_count": null,
   "id": "669e64ac",
   "metadata": {},
   "outputs": [],
   "source": []
  },
  {
   "cell_type": "code",
   "execution_count": null,
   "id": "21d4dea5",
   "metadata": {},
   "outputs": [],
   "source": []
  },
  {
   "cell_type": "markdown",
   "id": "70d70c46",
   "metadata": {},
   "source": [
    "# way of assignment "
   ]
  },
  {
   "cell_type": "code",
   "execution_count": 33,
   "id": "03ec6072",
   "metadata": {},
   "outputs": [],
   "source": [
    "name=\"salman\""
   ]
  },
  {
   "cell_type": "code",
   "execution_count": 34,
   "id": "8370fd19",
   "metadata": {},
   "outputs": [],
   "source": [
    "name,state,reg_no =\"salman\",\"TN\",\"23232\"  "
   ]
  },
  {
   "cell_type": "code",
   "execution_count": 35,
   "id": "9f64a951",
   "metadata": {},
   "outputs": [
    {
     "name": "stdout",
     "output_type": "stream",
     "text": [
      "salman TN 23232\n"
     ]
    }
   ],
   "source": [
    "print(name,state,reg_no)"
   ]
  },
  {
   "cell_type": "code",
   "execution_count": 36,
   "id": "1634588c",
   "metadata": {},
   "outputs": [],
   "source": [
    "name=peru=nom=\"salman\""
   ]
  },
  {
   "cell_type": "code",
   "execution_count": 37,
   "id": "8437f1a3",
   "metadata": {},
   "outputs": [
    {
     "name": "stdout",
     "output_type": "stream",
     "text": [
      "salman salman salman\n"
     ]
    }
   ],
   "source": [
    "print(name , peru , nom)"
   ]
  },
  {
   "cell_type": "code",
   "execution_count": null,
   "id": "aa79751c",
   "metadata": {},
   "outputs": [],
   "source": []
  },
  {
   "cell_type": "code",
   "execution_count": null,
   "id": "082997aa",
   "metadata": {},
   "outputs": [],
   "source": []
  },
  {
   "cell_type": "code",
   "execution_count": null,
   "id": "a3b54633",
   "metadata": {},
   "outputs": [],
   "source": []
  },
  {
   "cell_type": "markdown",
   "id": "2ad83d7f",
   "metadata": {
    "colab_type": "text",
    "id": "f8L0yWAhDH28"
   },
   "source": [
    "# Numbers"
   ]
  },
  {
   "cell_type": "code",
   "execution_count": 181,
   "id": "ed258e97",
   "metadata": {
    "colab": {},
    "colab_type": "code",
    "id": "b5GoGg_3DH29"
   },
   "outputs": [],
   "source": [
    "x = 1    # int\n",
    "y = 2.8  # float\n",
    "z = 1j   # complex"
   ]
  },
  {
   "cell_type": "code",
   "execution_count": 182,
   "id": "22b0f279",
   "metadata": {
    "colab": {},
    "colab_type": "code",
    "id": "DinN8bz3DH3A",
    "outputId": "756f053b-c518-47eb-ae37-c8eac12da4f5"
   },
   "outputs": [
    {
     "name": "stdout",
     "output_type": "stream",
     "text": [
      "<class 'int'>\n",
      "<class 'float'>\n",
      "<class 'complex'>\n"
     ]
    }
   ],
   "source": [
    "print(type(x))\n",
    "print(type(y))\n",
    "print(type(z))"
   ]
  },
  {
   "cell_type": "code",
   "execution_count": 183,
   "id": "c3531cba",
   "metadata": {
    "colab": {},
    "colab_type": "code",
    "id": "swjKZU1jDH3H"
   },
   "outputs": [],
   "source": [
    "x=float(10)"
   ]
  },
  {
   "cell_type": "code",
   "execution_count": 184,
   "id": "a6f71795",
   "metadata": {
    "colab": {},
    "colab_type": "code",
    "id": "FKG5P03CDH3K",
    "outputId": "5a322790-2d8c-4359-d098-1fe9866ccf5b"
   },
   "outputs": [
    {
     "data": {
      "text/plain": [
       "10.0"
      ]
     },
     "execution_count": 184,
     "metadata": {},
     "output_type": "execute_result"
    }
   ],
   "source": [
    "x"
   ]
  },
  {
   "cell_type": "code",
   "execution_count": 185,
   "id": "757f4ee6",
   "metadata": {
    "colab": {},
    "colab_type": "code",
    "id": "ndvvAYgyDH3N",
    "outputId": "016493e0-001d-408a-bcc3-512d4bccfdab"
   },
   "outputs": [
    {
     "name": "stdout",
     "output_type": "stream",
     "text": [
      "10.0\n",
      "10\n",
      "(10+0j)\n"
     ]
    }
   ],
   "source": [
    "#convert from int to float:\n",
    "a = float(x)\n",
    "\n",
    "#convert from float to int:\n",
    "b = int(x)\n",
    "\n",
    "#convert from int to complex:\n",
    "c = complex(x)\n",
    "\n",
    "print(a)\n",
    "print(b)\n",
    "print(c)"
   ]
  },
  {
   "cell_type": "code",
   "execution_count": 186,
   "id": "71f6298d",
   "metadata": {
    "colab": {},
    "colab_type": "code",
    "id": "i6inFrqiDH3R"
   },
   "outputs": [],
   "source": [
    "z=10"
   ]
  },
  {
   "cell_type": "code",
   "execution_count": 187,
   "id": "0b6360d4",
   "metadata": {
    "colab": {},
    "colab_type": "code",
    "id": "Ci8BEcD0DH3V",
    "outputId": "7a925da9-acc5-4f2e-f894-4c200cb6cd2b"
   },
   "outputs": [
    {
     "data": {
      "text/plain": [
       "int"
      ]
     },
     "execution_count": 187,
     "metadata": {},
     "output_type": "execute_result"
    }
   ],
   "source": [
    "type(z)"
   ]
  },
  {
   "cell_type": "code",
   "execution_count": 188,
   "id": "5a88428e",
   "metadata": {
    "colab": {},
    "colab_type": "code",
    "id": "gU8TXf3DDH3Z"
   },
   "outputs": [],
   "source": [
    "z=str(z)"
   ]
  },
  {
   "cell_type": "code",
   "execution_count": 189,
   "id": "f7749f85",
   "metadata": {
    "colab": {},
    "colab_type": "code",
    "id": "EmilnKRVDH3d",
    "outputId": "40985f2f-b798-4392-b759-161ff8477c6d"
   },
   "outputs": [
    {
     "data": {
      "text/plain": [
       "'10'"
      ]
     },
     "execution_count": 189,
     "metadata": {},
     "output_type": "execute_result"
    }
   ],
   "source": [
    "z"
   ]
  },
  {
   "cell_type": "markdown",
   "id": "535cbf88",
   "metadata": {
    "colab_type": "text",
    "id": "-Cevu-_RDH3h"
   },
   "source": [
    "# Strings"
   ]
  },
  {
   "cell_type": "code",
   "execution_count": 190,
   "id": "520908cf",
   "metadata": {
    "colab": {},
    "colab_type": "code",
    "id": "tO-lpQcsDH3h"
   },
   "outputs": [],
   "source": [
    "# position\n",
    "#  0123456............\n",
    "a=\"the world is awesome\""
   ]
  },
  {
   "cell_type": "code",
   "execution_count": 191,
   "id": "6dfeb17f",
   "metadata": {
    "colab": {},
    "colab_type": "code",
    "id": "vaFE23gJDH3l",
    "outputId": "3b21ee7a-30cf-4f65-fa8a-43ff23770721"
   },
   "outputs": [
    {
     "data": {
      "text/plain": [
       "'world'"
      ]
     },
     "execution_count": 191,
     "metadata": {},
     "output_type": "execute_result"
    }
   ],
   "source": [
    "#starts from 0\n",
    "a[4:9]"
   ]
  },
  {
   "cell_type": "code",
   "execution_count": 192,
   "id": "6c1cad29",
   "metadata": {
    "colab": {},
    "colab_type": "code",
    "id": "M5Zuf-M4DH3o",
    "outputId": "26b958bd-aef3-4908-db0b-7e018e6210e1"
   },
   "outputs": [
    {
     "data": {
      "text/plain": [
       "'world is awesome'"
      ]
     },
     "execution_count": 192,
     "metadata": {},
     "output_type": "execute_result"
    }
   ],
   "source": [
    "#prints all becoz of 0 to: we didnot mention anything\n",
    "a[4:]"
   ]
  },
  {
   "cell_type": "code",
   "execution_count": 193,
   "id": "267d0c9d",
   "metadata": {
    "colab": {},
    "colab_type": "code",
    "id": "yGqX0ExTDH3s",
    "outputId": "9e24ac69-d091-481f-8f4c-828853b598a3"
   },
   "outputs": [
    {
     "data": {
      "text/plain": [
       "'some'"
      ]
     },
     "execution_count": 193,
     "metadata": {},
     "output_type": "execute_result"
    }
   ],
   "source": [
    "a[16:20]"
   ]
  },
  {
   "cell_type": "code",
   "execution_count": 196,
   "id": "eb45cf03",
   "metadata": {
    "colab": {},
    "colab_type": "code",
    "id": "8aC8eRRQDH3w"
   },
   "outputs": [],
   "source": [
    "a=a.capitalize()"
   ]
  },
  {
   "cell_type": "code",
   "execution_count": 197,
   "id": "d2f13ec5",
   "metadata": {
    "colab": {},
    "colab_type": "code",
    "id": "6phrzlncDH30",
    "outputId": "631781ef-b901-4a30-e2b4-955bc80ed510"
   },
   "outputs": [
    {
     "data": {
      "text/plain": [
       "'The world is awesome'"
      ]
     },
     "execution_count": 197,
     "metadata": {},
     "output_type": "execute_result"
    }
   ],
   "source": [
    "a"
   ]
  },
  {
   "cell_type": "code",
   "execution_count": 198,
   "id": "2754cd86",
   "metadata": {
    "colab": {},
    "colab_type": "code",
    "id": "oPagK8E_DH35",
    "outputId": "3645f631-b839-4f2b-f263-b596f15d190d"
   },
   "outputs": [
    {
     "data": {
      "text/plain": [
       "False"
      ]
     },
     "execution_count": 198,
     "metadata": {},
     "output_type": "execute_result"
    }
   ],
   "source": [
    "a.isdigit()"
   ]
  },
  {
   "cell_type": "code",
   "execution_count": 199,
   "id": "34e2c940",
   "metadata": {
    "colab": {},
    "colab_type": "code",
    "id": "wDi45-oaDH38",
    "outputId": "19d10d64-1fa4-482f-de94-ff22e14640a1"
   },
   "outputs": [
    {
     "data": {
      "text/plain": [
       "False"
      ]
     },
     "execution_count": 199,
     "metadata": {},
     "output_type": "execute_result"
    }
   ],
   "source": [
    "a.islower()"
   ]
  },
  {
   "cell_type": "code",
   "execution_count": 200,
   "id": "ded64f25",
   "metadata": {
    "colab": {},
    "colab_type": "code",
    "id": "K7azL8wjDH3_",
    "outputId": "728cef66-c358-4983-b976-233a2028ce4a"
   },
   "outputs": [
    {
     "data": {
      "text/plain": [
       "'the world is awesome'"
      ]
     },
     "execution_count": 200,
     "metadata": {},
     "output_type": "execute_result"
    }
   ],
   "source": [
    "a.lower()"
   ]
  },
  {
   "cell_type": "code",
   "execution_count": 203,
   "id": "b1b50b26",
   "metadata": {
    "colab": {},
    "colab_type": "code",
    "id": "FT1OmymuDH4D",
    "outputId": "f8fc488a-5ef4-4387-96e2-664d4045c0b3"
   },
   "outputs": [],
   "source": [
    "a=a.upper()"
   ]
  },
  {
   "cell_type": "code",
   "execution_count": 204,
   "id": "69372619",
   "metadata": {
    "colab": {},
    "colab_type": "code",
    "id": "i47NCrqPDH4H",
    "outputId": "4c797712-36de-4efb-b938-9198a664e7ed"
   },
   "outputs": [
    {
     "data": {
      "text/plain": [
       "'THE WORLD IS AWESOME'"
      ]
     },
     "execution_count": 204,
     "metadata": {},
     "output_type": "execute_result"
    }
   ],
   "source": [
    "a"
   ]
  },
  {
   "cell_type": "code",
   "execution_count": 209,
   "id": "136ba641",
   "metadata": {
    "colab": {},
    "colab_type": "code",
    "id": "GIEHxoS7DH4M"
   },
   "outputs": [],
   "source": [
    "a=a.replace('IS','will be')"
   ]
  },
  {
   "cell_type": "code",
   "execution_count": 210,
   "id": "2ea4e0f5",
   "metadata": {
    "colab": {},
    "colab_type": "code",
    "id": "Mart4gyjDH4S",
    "outputId": "81f7cbfe-2b1d-4b3d-f289-300fe4ed6ee8"
   },
   "outputs": [
    {
     "data": {
      "text/plain": [
       "'THE WORLD will be AWESOME'"
      ]
     },
     "execution_count": 210,
     "metadata": {},
     "output_type": "execute_result"
    }
   ],
   "source": [
    "a"
   ]
  },
  {
   "cell_type": "code",
   "execution_count": 211,
   "id": "36f9207d",
   "metadata": {
    "colab": {},
    "colab_type": "code",
    "id": "WEGi4z8qDH4W",
    "outputId": "a16de319-c66b-41c6-b3d9-2ee0e5db936d"
   },
   "outputs": [
    {
     "data": {
      "text/plain": [
       "0"
      ]
     },
     "execution_count": 211,
     "metadata": {},
     "output_type": "execute_result"
    }
   ],
   "source": [
    "a.find('T')"
   ]
  },
  {
   "cell_type": "code",
   "execution_count": 212,
   "id": "1ff0ef96",
   "metadata": {
    "colab": {},
    "colab_type": "code",
    "id": "frPPJSPzDH4a",
    "outputId": "c18c56f4-542a-403a-f42f-8ee5b2e9ead4"
   },
   "outputs": [
    {
     "data": {
      "text/plain": [
       "'The World Will Be Awesome'"
      ]
     },
     "execution_count": 212,
     "metadata": {},
     "output_type": "execute_result"
    }
   ],
   "source": [
    "a.title()"
   ]
  },
  {
   "cell_type": "code",
   "execution_count": 213,
   "id": "58e78b09",
   "metadata": {
    "colab": {},
    "colab_type": "code",
    "id": "69hy6AVzDH4c"
   },
   "outputs": [],
   "source": [
    "x=a.split()"
   ]
  },
  {
   "cell_type": "code",
   "execution_count": 214,
   "id": "eeec0c81",
   "metadata": {
    "colab": {},
    "colab_type": "code",
    "id": "Qq_mFBQzDH4g",
    "outputId": "d445341d-548a-44e7-df0c-08c376f9dc64"
   },
   "outputs": [
    {
     "data": {
      "text/plain": [
       "['THE', 'WORLD', 'will', 'be', 'AWESOME']"
      ]
     },
     "execution_count": 214,
     "metadata": {},
     "output_type": "execute_result"
    }
   ],
   "source": [
    "x"
   ]
  },
  {
   "cell_type": "code",
   "execution_count": 215,
   "id": "06554409",
   "metadata": {
    "colab": {},
    "colab_type": "code",
    "id": "u2iHHF60DH4m",
    "outputId": "4f17206a-a1fa-404a-af4c-a70f423d91ba"
   },
   "outputs": [
    {
     "data": {
      "text/plain": [
       "list"
      ]
     },
     "execution_count": 215,
     "metadata": {},
     "output_type": "execute_result"
    }
   ],
   "source": [
    "type(x)"
   ]
  },
  {
   "cell_type": "markdown",
   "id": "e1c9603b",
   "metadata": {
    "colab_type": "text",
    "id": "Dck5y2XmDH4s"
   },
   "source": [
    "# Operators"
   ]
  },
  {
   "cell_type": "code",
   "execution_count": null,
   "id": "ce4caeb4",
   "metadata": {
    "colab": {},
    "colab_type": "code",
    "id": "5Mr-RmMSDH4t",
    "outputId": "63c5fd0f-c6d5-4aae-e8da-3f5025aafd4f"
   },
   "outputs": [],
   "source": [
    "#Arithmetic Operator\n",
    "1+3,3-2,4*2,2/3"
   ]
  },
  {
   "cell_type": "code",
   "execution_count": 216,
   "id": "05ede076",
   "metadata": {
    "colab": {},
    "colab_type": "code",
    "id": "sh06y85jDH44",
    "outputId": "fd7aed3e-e739-49ec-941b-8e18060722f6"
   },
   "outputs": [
    {
     "data": {
      "text/plain": [
       "10"
      ]
     },
     "execution_count": 216,
     "metadata": {},
     "output_type": "execute_result"
    }
   ],
   "source": [
    "#Assignment Operators\n",
    "a=10\n",
    "a"
   ]
  },
  {
   "cell_type": "code",
   "execution_count": 217,
   "id": "10d23c63",
   "metadata": {
    "colab": {},
    "colab_type": "code",
    "id": "sCUQOwwEDH4-",
    "outputId": "1a88a01b-1852-4d87-cce3-ed64388ee1b6"
   },
   "outputs": [
    {
     "data": {
      "text/plain": [
       "True"
      ]
     },
     "execution_count": 217,
     "metadata": {},
     "output_type": "execute_result"
    }
   ],
   "source": [
    "20==20"
   ]
  },
  {
   "cell_type": "code",
   "execution_count": 218,
   "id": "cf583028",
   "metadata": {
    "colab": {},
    "colab_type": "code",
    "id": "gQ__4AavDH5D",
    "outputId": "32ddb10e-e6c9-431a-d351-6c79c6f371ad"
   },
   "outputs": [
    {
     "data": {
      "text/plain": [
       "False"
      ]
     },
     "execution_count": 218,
     "metadata": {},
     "output_type": "execute_result"
    }
   ],
   "source": [
    "a=10\n",
    "a!=10"
   ]
  },
  {
   "cell_type": "code",
   "execution_count": 219,
   "id": "d94e3a7a",
   "metadata": {},
   "outputs": [
    {
     "data": {
      "text/plain": [
       "False"
      ]
     },
     "execution_count": 219,
     "metadata": {},
     "output_type": "execute_result"
    }
   ],
   "source": [
    "10!=10"
   ]
  },
  {
   "cell_type": "code",
   "execution_count": 220,
   "id": "cc8dc02c",
   "metadata": {},
   "outputs": [
    {
     "data": {
      "text/plain": [
       "True"
      ]
     },
     "execution_count": 220,
     "metadata": {},
     "output_type": "execute_result"
    }
   ],
   "source": [
    "10==10"
   ]
  },
  {
   "cell_type": "code",
   "execution_count": null,
   "id": "09971f52",
   "metadata": {
    "colab": {},
    "colab_type": "code",
    "id": "xfBskWt9DH5I"
   },
   "outputs": [],
   "source": [
    "a=a+1"
   ]
  },
  {
   "cell_type": "code",
   "execution_count": null,
   "id": "b1786138",
   "metadata": {
    "colab": {},
    "colab_type": "code",
    "id": "WdmDU4S2DH5M",
    "outputId": "37860985-40a5-4406-c8f3-db915fcc604e"
   },
   "outputs": [],
   "source": [
    "a"
   ]
  },
  {
   "cell_type": "code",
   "execution_count": null,
   "id": "5e9ba98d",
   "metadata": {
    "colab": {},
    "colab_type": "code",
    "id": "1eKPjRT7DH5P",
    "outputId": "129cd484-fa0e-460e-e40e-014835fa6592"
   },
   "outputs": [],
   "source": [
    "# Comparison Operators\n",
    "#checks whether two side is equal\n",
    "a=10\n",
    "a==20"
   ]
  },
  {
   "cell_type": "code",
   "execution_count": null,
   "id": "a88ade97",
   "metadata": {
    "colab": {},
    "colab_type": "code",
    "id": "20ss_U-9DH5X",
    "outputId": "ee5e791f-5578-443e-c8f2-83faaaf7f703"
   },
   "outputs": [],
   "source": [
    "#checks whether two side are not equal\n",
    "a!=20"
   ]
  },
  {
   "cell_type": "code",
   "execution_count": 221,
   "id": "2a0e305a",
   "metadata": {
    "colab": {},
    "colab_type": "code",
    "id": "fIEGjZrPDH5b"
   },
   "outputs": [],
   "source": [
    "a=10"
   ]
  },
  {
   "cell_type": "code",
   "execution_count": 222,
   "id": "225c351b",
   "metadata": {
    "colab": {},
    "colab_type": "code",
    "id": "XgLnw0c-DH5e",
    "outputId": "d1f25989-1a59-44d5-b0f7-a055fb6207ce"
   },
   "outputs": [
    {
     "data": {
      "text/plain": [
       "False"
      ]
     },
     "execution_count": 222,
     "metadata": {},
     "output_type": "execute_result"
    }
   ],
   "source": [
    "# a is less then 5\n",
    "a < 5"
   ]
  },
  {
   "cell_type": "code",
   "execution_count": 223,
   "id": "aeac058e",
   "metadata": {
    "colab": {},
    "colab_type": "code",
    "id": "DQSKkPgrDH5g",
    "outputId": "24adce06-d944-467c-879a-b944bb481106"
   },
   "outputs": [
    {
     "data": {
      "text/plain": [
       "True"
      ]
     },
     "execution_count": 223,
     "metadata": {},
     "output_type": "execute_result"
    }
   ],
   "source": [
    "# a is graeter then 5\n",
    "a > 5"
   ]
  },
  {
   "cell_type": "code",
   "execution_count": 224,
   "id": "8a7e93d3",
   "metadata": {
    "colab": {},
    "colab_type": "code",
    "id": "cjSouZW9DH5l",
    "outputId": "2469bd08-e959-465d-8a4f-cc0e1557c652"
   },
   "outputs": [
    {
     "data": {
      "text/plain": [
       "False"
      ]
     },
     "execution_count": 224,
     "metadata": {},
     "output_type": "execute_result"
    }
   ],
   "source": [
    "a<10"
   ]
  },
  {
   "cell_type": "code",
   "execution_count": 225,
   "id": "f8d6d0eb",
   "metadata": {
    "colab": {},
    "colab_type": "code",
    "id": "03mDBA-dDH5r",
    "outputId": "12ebda0a-7215-4a30-9d55-84c01d901d44"
   },
   "outputs": [
    {
     "data": {
      "text/plain": [
       "True"
      ]
     },
     "execution_count": 225,
     "metadata": {},
     "output_type": "execute_result"
    }
   ],
   "source": [
    "# a is less then (or) equal to 10 , so true\n",
    "a<=10"
   ]
  },
  {
   "cell_type": "code",
   "execution_count": 226,
   "id": "8b60473a",
   "metadata": {
    "colab": {},
    "colab_type": "code",
    "id": "ztqe8U-gDH5t"
   },
   "outputs": [],
   "source": [
    "#Logical Operators and , or , not\n",
    "x=10"
   ]
  },
  {
   "cell_type": "code",
   "execution_count": 227,
   "id": "3191320d",
   "metadata": {
    "colab": {},
    "colab_type": "code",
    "id": "r_Q--4HVDH5v",
    "outputId": "3aafd881-a16c-45f5-fe9a-10007d781035"
   },
   "outputs": [
    {
     "data": {
      "text/plain": [
       "True"
      ]
     },
     "execution_count": 227,
     "metadata": {},
     "output_type": "execute_result"
    }
   ],
   "source": [
    "# if any one of them is true means return true\n",
    "x < 5 or x > 5"
   ]
  },
  {
   "cell_type": "code",
   "execution_count": 228,
   "id": "cf48ecee",
   "metadata": {
    "colab": {},
    "colab_type": "code",
    "id": "wA0HsvmmDH5x",
    "outputId": "e8f7d4d8-8f53-43e1-c96b-769b28e814a4"
   },
   "outputs": [
    {
     "data": {
      "text/plain": [
       "False"
      ]
     },
     "execution_count": 228,
     "metadata": {},
     "output_type": "execute_result"
    }
   ],
   "source": [
    "# if any one of them is false means return false\n",
    "x < 5 and x > 5"
   ]
  },
  {
   "cell_type": "code",
   "execution_count": 229,
   "id": "bd541c04",
   "metadata": {
    "colab": {},
    "colab_type": "code",
    "id": "orVR9k4YDH51"
   },
   "outputs": [],
   "source": [
    "#Identity Operators\n",
    "x=10\n",
    "y=10"
   ]
  },
  {
   "cell_type": "code",
   "execution_count": 230,
   "id": "405254df",
   "metadata": {
    "colab": {},
    "colab_type": "code",
    "id": "wh3cqsrXDH54",
    "outputId": "c951b6ff-4882-4eaa-e9c0-72294c30aae3"
   },
   "outputs": [
    {
     "data": {
      "text/plain": [
       "True"
      ]
     },
     "execution_count": 230,
     "metadata": {},
     "output_type": "execute_result"
    }
   ],
   "source": [
    "x is y"
   ]
  },
  {
   "cell_type": "code",
   "execution_count": 231,
   "id": "b0c1436e",
   "metadata": {},
   "outputs": [
    {
     "data": {
      "text/plain": [
       "True"
      ]
     },
     "execution_count": 231,
     "metadata": {},
     "output_type": "execute_result"
    }
   ],
   "source": [
    "5 is 5"
   ]
  },
  {
   "cell_type": "code",
   "execution_count": 232,
   "id": "328d89e5",
   "metadata": {},
   "outputs": [
    {
     "data": {
      "text/plain": [
       "False"
      ]
     },
     "execution_count": 232,
     "metadata": {},
     "output_type": "execute_result"
    }
   ],
   "source": [
    "5 is not 5"
   ]
  },
  {
   "cell_type": "code",
   "execution_count": 233,
   "id": "00972006",
   "metadata": {},
   "outputs": [
    {
     "data": {
      "text/plain": [
       "True"
      ]
     },
     "execution_count": 233,
     "metadata": {},
     "output_type": "execute_result"
    }
   ],
   "source": [
    "6 is not 7"
   ]
  },
  {
   "cell_type": "code",
   "execution_count": null,
   "id": "b71fb127",
   "metadata": {},
   "outputs": [],
   "source": []
  },
  {
   "cell_type": "code",
   "execution_count": null,
   "id": "2d08c556",
   "metadata": {},
   "outputs": [],
   "source": []
  },
  {
   "cell_type": "code",
   "execution_count": 164,
   "id": "9f242358",
   "metadata": {},
   "outputs": [],
   "source": []
  },
  {
   "cell_type": "markdown",
   "id": "40d7cb81",
   "metadata": {},
   "source": [
    "# List\n"
   ]
  },
  {
   "cell_type": "code",
   "execution_count": 175,
   "id": "f7e3da25",
   "metadata": {
    "colab": {},
    "colab_type": "code",
    "id": "inKU_ywkDH6V",
    "outputId": "2edd12f9-4b15-489d-b7e2-30cb8658d4d5"
   },
   "outputs": [
    {
     "name": "stdout",
     "output_type": "stream",
     "text": [
      "['apple', 'banana', 'cherry', 5, 'tygh', 5.9]\n"
     ]
    }
   ],
   "source": [
    "thislist = [\"apple\", \"banana\", \"cherry\", 5, \"tygh\",5.9]\n",
    "print(thislist)"
   ]
  },
  {
   "cell_type": "code",
   "execution_count": 174,
   "id": "482c5431",
   "metadata": {},
   "outputs": [
    {
     "data": {
      "text/plain": [
       "list"
      ]
     },
     "execution_count": 174,
     "metadata": {},
     "output_type": "execute_result"
    }
   ],
   "source": [
    "type(thislist)"
   ]
  },
  {
   "cell_type": "code",
   "execution_count": 101,
   "id": "a1e021ac",
   "metadata": {
    "colab": {},
    "colab_type": "code",
    "id": "esq6Jj36DH6b",
    "outputId": "c0d7734c-b345-4f68-81d6-feae53a5487b"
   },
   "outputs": [
    {
     "data": {
      "text/plain": [
       "True"
      ]
     },
     "execution_count": 101,
     "metadata": {},
     "output_type": "execute_result"
    }
   ],
   "source": [
    "\"apple\" in thislist"
   ]
  },
  {
   "cell_type": "code",
   "execution_count": 102,
   "id": "46c22525",
   "metadata": {
    "colab": {},
    "colab_type": "code",
    "id": "_kPsI-10DH6d",
    "outputId": "5cc534a0-4426-4f2f-9b07-7d24207d7fe5"
   },
   "outputs": [
    {
     "data": {
      "text/plain": [
       "False"
      ]
     },
     "execution_count": 102,
     "metadata": {},
     "output_type": "execute_result"
    }
   ],
   "source": [
    "\"apple\" not in thislist"
   ]
  },
  {
   "cell_type": "code",
   "execution_count": 103,
   "id": "9921748c",
   "metadata": {
    "colab": {},
    "colab_type": "code",
    "id": "hP12f-D_DH6f",
    "outputId": "8bde563d-d3e1-4dfe-b75f-55b7610f7222"
   },
   "outputs": [
    {
     "data": {
      "text/plain": [
       "'apple'"
      ]
     },
     "execution_count": 103,
     "metadata": {},
     "output_type": "execute_result"
    }
   ],
   "source": [
    "thislist[0]"
   ]
  },
  {
   "cell_type": "code",
   "execution_count": 104,
   "id": "7d35d7cf",
   "metadata": {
    "colab": {},
    "colab_type": "code",
    "id": "Muz64ekhDH6h",
    "outputId": "a0f76349-0b80-46ff-b384-8bd1304cf8ae"
   },
   "outputs": [
    {
     "data": {
      "text/plain": [
       "'banana'"
      ]
     },
     "execution_count": 104,
     "metadata": {},
     "output_type": "execute_result"
    }
   ],
   "source": [
    "thislist[1]"
   ]
  },
  {
   "cell_type": "code",
   "execution_count": 105,
   "id": "6d23a7fa",
   "metadata": {
    "colab": {},
    "colab_type": "code",
    "id": "5oAyvLg9DH6v",
    "outputId": "7bc4aa42-0632-444d-9531-5be15cee5943"
   },
   "outputs": [
    {
     "data": {
      "text/plain": [
       "'cherry'"
      ]
     },
     "execution_count": 105,
     "metadata": {},
     "output_type": "execute_result"
    }
   ],
   "source": [
    "thislist[2]"
   ]
  },
  {
   "cell_type": "code",
   "execution_count": 176,
   "id": "951e2748",
   "metadata": {
    "colab": {},
    "colab_type": "code",
    "id": "WnVoJySZDH6o",
    "outputId": "c40c8149-58f9-416b-f55b-6afdbf0ca648"
   },
   "outputs": [
    {
     "data": {
      "text/plain": [
       "5.9"
      ]
     },
     "execution_count": 176,
     "metadata": {},
     "output_type": "execute_result"
    }
   ],
   "source": [
    "thislist[-1]"
   ]
  },
  {
   "cell_type": "code",
   "execution_count": null,
   "id": "77399009",
   "metadata": {},
   "outputs": [],
   "source": []
  },
  {
   "cell_type": "code",
   "execution_count": 107,
   "id": "ef961b6a",
   "metadata": {
    "colab": {},
    "colab_type": "code",
    "id": "ctR4qRd_DH6y"
   },
   "outputs": [],
   "source": [
    "x=\"orange\"\n",
    "y=\"mango\""
   ]
  },
  {
   "cell_type": "code",
   "execution_count": 108,
   "id": "d08f8d1d",
   "metadata": {
    "colab": {},
    "colab_type": "code",
    "id": "k_0hJXPHDH7B"
   },
   "outputs": [],
   "source": [
    "thislist.append(x)"
   ]
  },
  {
   "cell_type": "code",
   "execution_count": 109,
   "id": "9618d47b",
   "metadata": {
    "colab": {},
    "colab_type": "code",
    "id": "in2NVxiJDH7D",
    "outputId": "1e6fcaf2-462d-45f5-ab8b-0446540f2b41"
   },
   "outputs": [
    {
     "data": {
      "text/plain": [
       "['apple', 'banana', 'cherry', 'orange']"
      ]
     },
     "execution_count": 109,
     "metadata": {},
     "output_type": "execute_result"
    }
   ],
   "source": [
    "thislist"
   ]
  },
  {
   "cell_type": "code",
   "execution_count": 110,
   "id": "70edc6ed",
   "metadata": {
    "colab": {},
    "colab_type": "code",
    "id": "Op07O2HgDH7J"
   },
   "outputs": [],
   "source": [
    "thislist.insert(0,y)"
   ]
  },
  {
   "cell_type": "code",
   "execution_count": 111,
   "id": "74afd0a4",
   "metadata": {
    "colab": {},
    "colab_type": "code",
    "id": "AxKQIrRcDH7U",
    "outputId": "80e05673-6a84-4e5f-d53f-1cff9d8dae1b"
   },
   "outputs": [
    {
     "data": {
      "text/plain": [
       "['mango', 'apple', 'banana', 'cherry', 'orange']"
      ]
     },
     "execution_count": 111,
     "metadata": {},
     "output_type": "execute_result"
    }
   ],
   "source": [
    "thislist"
   ]
  },
  {
   "cell_type": "code",
   "execution_count": 112,
   "id": "1242ffc4",
   "metadata": {
    "colab": {},
    "colab_type": "code",
    "id": "OGT0DKzRDH7Z"
   },
   "outputs": [],
   "source": [
    "thislist.remove(\"banana\")"
   ]
  },
  {
   "cell_type": "code",
   "execution_count": 113,
   "id": "2281053f",
   "metadata": {
    "colab": {},
    "colab_type": "code",
    "id": "q8XmossgDH7d",
    "outputId": "3c30c7e9-f273-4d27-dbf0-83100707a269"
   },
   "outputs": [
    {
     "data": {
      "text/plain": [
       "['mango', 'apple', 'cherry', 'orange']"
      ]
     },
     "execution_count": 113,
     "metadata": {},
     "output_type": "execute_result"
    }
   ],
   "source": [
    "thislist"
   ]
  },
  {
   "cell_type": "code",
   "execution_count": 114,
   "id": "f0400351",
   "metadata": {
    "colab": {},
    "colab_type": "code",
    "id": "VVa-GSF4DH7g"
   },
   "outputs": [],
   "source": [
    "thislist.reverse()"
   ]
  },
  {
   "cell_type": "code",
   "execution_count": 115,
   "id": "2f87da24",
   "metadata": {
    "colab": {},
    "colab_type": "code",
    "id": "V18SQtU6DH7j",
    "outputId": "1d60b811-3dcc-41fc-ca0f-a3a26f97fe44"
   },
   "outputs": [
    {
     "data": {
      "text/plain": [
       "['orange', 'cherry', 'apple', 'mango']"
      ]
     },
     "execution_count": 115,
     "metadata": {},
     "output_type": "execute_result"
    }
   ],
   "source": [
    "thislist."
   ]
  },
  {
   "cell_type": "code",
   "execution_count": 116,
   "id": "db800edf",
   "metadata": {},
   "outputs": [],
   "source": []
  },
  {
   "cell_type": "code",
   "execution_count": null,
   "id": "aaba6282",
   "metadata": {},
   "outputs": [],
   "source": []
  },
  {
   "cell_type": "markdown",
   "id": "80418e04",
   "metadata": {
    "colab_type": "text",
    "id": "Hu91rSAoDH7m"
   },
   "source": [
    "# Tuples\n",
    "(can not be updated)"
   ]
  },
  {
   "cell_type": "code",
   "execution_count": 147,
   "id": "fe057ae7",
   "metadata": {
    "colab": {},
    "colab_type": "code",
    "id": "ISAVByN2DH7n",
    "outputId": "5e1c468a-dd74-45ba-ad48-7f00ed7e05e8"
   },
   "outputs": [
    {
     "name": "stdout",
     "output_type": "stream",
     "text": [
      "('apple', 'apple', 'banana', 'cherry')\n"
     ]
    }
   ],
   "source": [
    "thistuple = (\"apple\",\"apple\", \"banana\", \"cherry\")\n",
    "print(thistuple)"
   ]
  },
  {
   "cell_type": "code",
   "execution_count": 177,
   "id": "f6917afa",
   "metadata": {
    "colab": {},
    "colab_type": "code",
    "id": "VWEUbEiODH7q",
    "outputId": "5a4ab6c5-8081-4ee5-fb78-4ad5b6f7c750"
   },
   "outputs": [
    {
     "data": {
      "text/plain": [
       "0"
      ]
     },
     "execution_count": 177,
     "metadata": {},
     "output_type": "execute_result"
    }
   ],
   "source": [
    "thistuple.index(\"apple\")"
   ]
  },
  {
   "cell_type": "code",
   "execution_count": 149,
   "id": "2551521d",
   "metadata": {},
   "outputs": [
    {
     "data": {
      "text/plain": [
       "2"
      ]
     },
     "execution_count": 149,
     "metadata": {},
     "output_type": "execute_result"
    }
   ],
   "source": [
    "thistuple.count(\"apple\")"
   ]
  },
  {
   "cell_type": "code",
   "execution_count": null,
   "id": "020062ad",
   "metadata": {},
   "outputs": [],
   "source": [
    "thistuple."
   ]
  },
  {
   "cell_type": "markdown",
   "id": "445742aa",
   "metadata": {},
   "source": [
    "# Set"
   ]
  },
  {
   "cell_type": "code",
   "execution_count": 161,
   "id": "ef85bf46",
   "metadata": {
    "colab": {},
    "colab_type": "code",
    "id": "0LIHt0-QDH79"
   },
   "outputs": [],
   "source": [
    "thisset = {\"apple\",\"apple\", \"banana\", \"cherry\"}\n"
   ]
  },
  {
   "cell_type": "code",
   "execution_count": 162,
   "id": "6c35fb74",
   "metadata": {
    "colab": {},
    "colab_type": "code",
    "id": "isyPqtGjDH8A",
    "outputId": "f7b1525d-c7ad-481e-f46f-ba80280946e5"
   },
   "outputs": [
    {
     "data": {
      "text/plain": [
       "{'apple', 'banana', 'cherry'}"
      ]
     },
     "execution_count": 162,
     "metadata": {},
     "output_type": "execute_result"
    }
   ],
   "source": [
    "thisset"
   ]
  },
  {
   "cell_type": "code",
   "execution_count": null,
   "id": "b59ff175",
   "metadata": {},
   "outputs": [],
   "source": []
  },
  {
   "cell_type": "code",
   "execution_count": 164,
   "id": "1a260e9c",
   "metadata": {},
   "outputs": [],
   "source": [
    "e1 = {\"apple\", \"banana\", \"cherry\"}\n",
    "e2 = {\"apple\", \"mango\"}"
   ]
  },
  {
   "cell_type": "code",
   "execution_count": 165,
   "id": "ce79613b",
   "metadata": {},
   "outputs": [
    {
     "data": {
      "text/plain": [
       "{'apple', 'banana', 'cherry', 'mango'}"
      ]
     },
     "execution_count": 165,
     "metadata": {},
     "output_type": "execute_result"
    }
   ],
   "source": [
    "# union\n",
    "e1|e2"
   ]
  },
  {
   "cell_type": "code",
   "execution_count": 166,
   "id": "56fd1f9f",
   "metadata": {},
   "outputs": [
    {
     "data": {
      "text/plain": [
       "{'apple'}"
      ]
     },
     "execution_count": 166,
     "metadata": {},
     "output_type": "execute_result"
    }
   ],
   "source": [
    "# intersection\n",
    "e1&e2"
   ]
  },
  {
   "cell_type": "code",
   "execution_count": 167,
   "id": "d0904e84",
   "metadata": {},
   "outputs": [
    {
     "data": {
      "text/plain": [
       "{'banana', 'cherry', 'mango'}"
      ]
     },
     "execution_count": 167,
     "metadata": {},
     "output_type": "execute_result"
    }
   ],
   "source": [
    "# symmetric difference\n",
    "e1^e2"
   ]
  },
  {
   "cell_type": "code",
   "execution_count": 168,
   "id": "45723052",
   "metadata": {},
   "outputs": [
    {
     "data": {
      "text/plain": [
       "False"
      ]
     },
     "execution_count": 168,
     "metadata": {},
     "output_type": "execute_result"
    }
   ],
   "source": [
    "e1.issubset(e2)"
   ]
  },
  {
   "cell_type": "code",
   "execution_count": 169,
   "id": "e5c43116",
   "metadata": {},
   "outputs": [
    {
     "data": {
      "text/plain": [
       "{'apple', 'banana', 'cherry'}"
      ]
     },
     "execution_count": 169,
     "metadata": {},
     "output_type": "execute_result"
    }
   ],
   "source": [
    "e1."
   ]
  },
  {
   "cell_type": "code",
   "execution_count": 170,
   "id": "faa1dee8",
   "metadata": {},
   "outputs": [],
   "source": [
    "# https://www.programiz.com/python-programming/set"
   ]
  },
  {
   "cell_type": "code",
   "execution_count": null,
   "id": "d51f1ae2",
   "metadata": {},
   "outputs": [],
   "source": []
  },
  {
   "cell_type": "markdown",
   "id": "1348e73e",
   "metadata": {
    "colab_type": "text",
    "id": "mteujJpYDH8E"
   },
   "source": [
    "# Dictionary"
   ]
  },
  {
   "cell_type": "code",
   "execution_count": 124,
   "id": "9205cfbf",
   "metadata": {
    "colab": {},
    "colab_type": "code",
    "id": "5PizlSdFDH8G",
    "outputId": "a3e63d20-badf-48a1-e7ee-73578363b3bd"
   },
   "outputs": [
    {
     "name": "stdout",
     "output_type": "stream",
     "text": [
      "{'brand': 'Ford', 'model': 'Mustang', 'year': 1964}\n"
     ]
    }
   ],
   "source": [
    "thisdict = {\n",
    "  \"brand\": \"Ford\",\n",
    "  \"model\": \"Mustang\",\n",
    "  \"year\": 1964\n",
    "}\n",
    "print(thisdict)"
   ]
  },
  {
   "cell_type": "code",
   "execution_count": 125,
   "id": "b7e92053",
   "metadata": {
    "colab": {},
    "colab_type": "code",
    "id": "QkOnaFlpDH8J",
    "outputId": "08c9738d-855c-4396-8d9e-e4e8e32c4878"
   },
   "outputs": [
    {
     "data": {
      "text/plain": [
       "dict_items([('brand', 'Ford'), ('model', 'Mustang'), ('year', 1964)])"
      ]
     },
     "execution_count": 125,
     "metadata": {},
     "output_type": "execute_result"
    }
   ],
   "source": [
    "thisdict.items()"
   ]
  },
  {
   "cell_type": "code",
   "execution_count": 126,
   "id": "fea7782e",
   "metadata": {
    "colab": {},
    "colab_type": "code",
    "id": "RCp2sBGfDH8N",
    "outputId": "b6413e39-df44-4103-d260-79bed6d51857"
   },
   "outputs": [
    {
     "data": {
      "text/plain": [
       "dict_keys(['brand', 'model', 'year'])"
      ]
     },
     "execution_count": 126,
     "metadata": {},
     "output_type": "execute_result"
    }
   ],
   "source": [
    "thisdict.keys()"
   ]
  },
  {
   "cell_type": "code",
   "execution_count": 127,
   "id": "beda52f1",
   "metadata": {
    "colab": {},
    "colab_type": "code",
    "id": "1IR2k01QDH8S",
    "outputId": "f6e2876e-92bb-4c7a-a451-7b22fb8e884b"
   },
   "outputs": [
    {
     "data": {
      "text/plain": [
       "dict_values(['Ford', 'Mustang', 1964])"
      ]
     },
     "execution_count": 127,
     "metadata": {},
     "output_type": "execute_result"
    }
   ],
   "source": [
    "thisdict.values()"
   ]
  },
  {
   "cell_type": "code",
   "execution_count": 128,
   "id": "3da1c27b",
   "metadata": {
    "colab": {},
    "colab_type": "code",
    "id": "pcICwaAbDH8W",
    "outputId": "b4da84a5-d759-4c81-d48f-615c773c2e4d"
   },
   "outputs": [
    {
     "data": {
      "text/plain": [
       "'Mustang'"
      ]
     },
     "execution_count": 128,
     "metadata": {},
     "output_type": "execute_result"
    }
   ],
   "source": [
    "thisdict[\"model\"]"
   ]
  },
  {
   "cell_type": "code",
   "execution_count": 130,
   "id": "5f3067c9",
   "metadata": {
    "colab": {},
    "colab_type": "code",
    "id": "0H-YWTPADH8Z",
    "outputId": "821e9ce9-d657-4bb7-9003-eb015679a1ea"
   },
   "outputs": [
    {
     "data": {
      "text/plain": [
       "{'brand': 'Ford', 'model': 'Mustang', 'year': 1964}"
      ]
     },
     "execution_count": 130,
     "metadata": {},
     "output_type": "execute_result"
    }
   ],
   "source": [
    "thisdict."
   ]
  },
  {
   "cell_type": "code",
   "execution_count": null,
   "id": "331e74ee",
   "metadata": {},
   "outputs": [],
   "source": []
  },
  {
   "cell_type": "code",
   "execution_count": null,
   "id": "2ac44fea",
   "metadata": {},
   "outputs": [],
   "source": [
    "# https://docs.python.org/3/tutorial/datastructures.html"
   ]
  },
  {
   "cell_type": "code",
   "execution_count": null,
   "id": "cd70c6b3",
   "metadata": {},
   "outputs": [],
   "source": []
  },
  {
   "cell_type": "code",
   "execution_count": null,
   "id": "34c16c78",
   "metadata": {},
   "outputs": [],
   "source": []
  },
  {
   "cell_type": "code",
   "execution_count": null,
   "id": "d4152b87",
   "metadata": {},
   "outputs": [],
   "source": []
  },
  {
   "cell_type": "code",
   "execution_count": null,
   "id": "96fc51e3",
   "metadata": {},
   "outputs": [],
   "source": []
  },
  {
   "cell_type": "code",
   "execution_count": null,
   "id": "80f7b9e9",
   "metadata": {},
   "outputs": [],
   "source": []
  },
  {
   "cell_type": "code",
   "execution_count": null,
   "id": "e5fb6a2f",
   "metadata": {},
   "outputs": [],
   "source": []
  },
  {
   "cell_type": "code",
   "execution_count": null,
   "id": "85c16153",
   "metadata": {},
   "outputs": [],
   "source": []
  },
  {
   "cell_type": "code",
   "execution_count": null,
   "id": "76746047",
   "metadata": {},
   "outputs": [],
   "source": []
  },
  {
   "cell_type": "code",
   "execution_count": null,
   "id": "3b9b3e45",
   "metadata": {},
   "outputs": [],
   "source": []
  },
  {
   "cell_type": "markdown",
   "id": "fb2cdbe2",
   "metadata": {},
   "source": [
    "# Conditional Statement"
   ]
  },
  {
   "cell_type": "code",
   "execution_count": null,
   "id": "4abe8d6f",
   "metadata": {},
   "outputs": [],
   "source": [
    "a=2\n",
    "b=4\n",
    "a<b\n",
    "a!=b"
   ]
  },
  {
   "cell_type": "code",
   "execution_count": null,
   "id": "8130ccdf",
   "metadata": {},
   "outputs": [],
   "source": [
    "\n",
    "if a<b:\n",
    "    \n",
    "    print(\"i'm running\")\n"
   ]
  },
  {
   "cell_type": "code",
   "execution_count": null,
   "id": "56ec3509",
   "metadata": {},
   "outputs": [],
   "source": [
    "\n",
    "if a>b:# False\n",
    "    print(\"i'm running\")\n",
    "print(\"i can do whatever i want to\")"
   ]
  },
  {
   "cell_type": "code",
   "execution_count": null,
   "id": "7f6eaadc",
   "metadata": {},
   "outputs": [],
   "source": [
    "\n",
    "if a>b:# False\n",
    "    print(\"i'm running\")\n",
    "else:\n",
    "    print(\"i'll come in the end\")\n",
    "    \n",
    "print(\"i can do whatever i want to\")"
   ]
  },
  {
   "cell_type": "code",
   "execution_count": null,
   "id": "d5a0b32e",
   "metadata": {},
   "outputs": [],
   "source": []
  },
  {
   "cell_type": "markdown",
   "id": "1ec2a682",
   "metadata": {},
   "source": [
    "### EL IF"
   ]
  },
  {
   "cell_type": "code",
   "execution_count": null,
   "id": "e58fa997",
   "metadata": {},
   "outputs": [],
   "source": [
    "\n",
    "if a>b:# False\n",
    "    print(\"i'm running\")\n",
    "elif a==b:\n",
    "    print(\"elif block one\")\n",
    "elif a<b:\n",
    "    print(\"i'm running\")\n",
    "    \n",
    "    \n",
    "print(\"i can do whatever i want to\")"
   ]
  },
  {
   "cell_type": "code",
   "execution_count": null,
   "id": "97247c6e",
   "metadata": {},
   "outputs": [],
   "source": []
  },
  {
   "cell_type": "markdown",
   "id": "5c45c158",
   "metadata": {},
   "source": [
    "### Else rule"
   ]
  },
  {
   "cell_type": "code",
   "execution_count": null,
   "id": "d36d15db",
   "metadata": {},
   "outputs": [],
   "source": [
    "\n",
    "if a>b:# False\n",
    "    print(\"i'm running\")\n",
    "elif a==b:\n",
    "    print(\"elif block one\")\n",
    "else:\n",
    "    print(\"i wont fit before or inside elif\")\n",
    "elif a<b:\n",
    "    print(\"i'm running\")\n",
    "    \n",
    "    \n",
    "print(\"i can do whatever i want to\")"
   ]
  },
  {
   "cell_type": "code",
   "execution_count": null,
   "id": "8a33be7c",
   "metadata": {},
   "outputs": [],
   "source": [
    "\n",
    "if a>b:# False\n",
    "    print(\"i'm running\")\n",
    "elif a==b:\n",
    "    print(\"elif block one\")\n",
    "elif a<b:\n",
    "    print(\"i'm running\")\n",
    "else:\n",
    "    print(\"now i'm okay\")    \n",
    "\n",
    "print(\"i can do whatever i want to\")"
   ]
  },
  {
   "cell_type": "code",
   "execution_count": null,
   "id": "62778ef6",
   "metadata": {},
   "outputs": [],
   "source": []
  },
  {
   "cell_type": "markdown",
   "id": "a4f474c0",
   "metadata": {},
   "source": [
    "### Nested IF"
   ]
  },
  {
   "cell_type": "code",
   "execution_count": null,
   "id": "a582f068",
   "metadata": {},
   "outputs": [],
   "source": [
    "\n",
    "if a<b:# True\n",
    "    print(\"i'm running\")\n",
    "    if a!=b:\n",
    "        print(\"i'm hereeeee\")\n",
    "elif a==b:\n",
    "    print(\"elif block one\")\n",
    "elif a<b:\n",
    "    print(\"i'm running\")\n",
    "else:\n",
    "    print(\"now i'm okay\")    \n",
    "\n",
    "print(\"i can do whatever i want to\")"
   ]
  },
  {
   "cell_type": "code",
   "execution_count": null,
   "id": "dd2137ec",
   "metadata": {},
   "outputs": [],
   "source": []
  },
  {
   "cell_type": "markdown",
   "id": "ebc6b1a4",
   "metadata": {},
   "source": [
    "### and"
   ]
  },
  {
   "cell_type": "code",
   "execution_count": null,
   "id": "563859a5",
   "metadata": {},
   "outputs": [],
   "source": [
    "a=2\n",
    "b=4\n",
    "c=6"
   ]
  },
  {
   "cell_type": "code",
   "execution_count": null,
   "id": "fb6b4246",
   "metadata": {},
   "outputs": [],
   "source": [
    "if a<b and b<c:\n",
    "    print(\"okayy\")\n"
   ]
  },
  {
   "cell_type": "code",
   "execution_count": null,
   "id": "60aa9215",
   "metadata": {},
   "outputs": [],
   "source": [
    "if a<b and b==c:\n",
    "    print(\"okayy\")\n",
    "    \n",
    "print(\"i can do whatever i want to\")"
   ]
  },
  {
   "cell_type": "markdown",
   "id": "48790537",
   "metadata": {},
   "source": [
    "#### OR"
   ]
  },
  {
   "cell_type": "code",
   "execution_count": null,
   "id": "bbcd2d21",
   "metadata": {},
   "outputs": [],
   "source": [
    "if a<b or b<c:\n",
    "    print(\"okayy\")\n"
   ]
  },
  {
   "cell_type": "code",
   "execution_count": null,
   "id": "8d30d82b",
   "metadata": {},
   "outputs": [],
   "source": [
    "if a<b or b==c:\n",
    "    print(\"okayy\")\n",
    "    \n",
    "print(\"i can do whatever i want to\")"
   ]
  },
  {
   "cell_type": "code",
   "execution_count": null,
   "id": "7a189bb6",
   "metadata": {},
   "outputs": [],
   "source": []
  },
  {
   "cell_type": "code",
   "execution_count": null,
   "id": "95b11463",
   "metadata": {},
   "outputs": [],
   "source": []
  },
  {
   "cell_type": "markdown",
   "id": "62de8b7b",
   "metadata": {
    "colab_type": "text",
    "id": "hoOFHssKDH8q"
   },
   "source": [
    "# Looping Statement"
   ]
  },
  {
   "cell_type": "code",
   "execution_count": 37,
   "id": "ff888543",
   "metadata": {
    "colab": {},
    "colab_type": "code",
    "id": "t4ZpnvAJDH8r",
    "outputId": "04e78d5d-a256-4fdd-a8c8-18cc379651fa"
   },
   "outputs": [
    {
     "name": "stdout",
     "output_type": "stream",
     "text": [
      "0\n",
      "running\n",
      "1\n",
      "running\n",
      "2\n",
      "running\n",
      "3\n",
      "running\n",
      "4\n",
      "running\n",
      "5\n",
      "running\n",
      "6\n",
      "running\n",
      "7\n",
      "running\n",
      "8\n",
      "running\n",
      "9\n",
      "running\n"
     ]
    }
   ],
   "source": [
    "for i in range(10):\n",
    "    print(i)\n",
    "    print(\"running\")\n",
    "   \n"
   ]
  },
  {
   "cell_type": "code",
   "execution_count": null,
   "id": "c3bfb345",
   "metadata": {},
   "outputs": [],
   "source": []
  },
  {
   "cell_type": "code",
   "execution_count": 24,
   "id": "03430f7e",
   "metadata": {},
   "outputs": [],
   "source": [
    "list_example=[1,2,3,4,5]"
   ]
  },
  {
   "cell_type": "code",
   "execution_count": 38,
   "id": "5f0af4a5",
   "metadata": {},
   "outputs": [
    {
     "name": "stdout",
     "output_type": "stream",
     "text": [
      "3\n",
      "4\n",
      "5\n",
      "6\n",
      "7\n"
     ]
    }
   ],
   "source": [
    "for i in list_example:\n",
    "    print(i+2)"
   ]
  },
  {
   "cell_type": "code",
   "execution_count": null,
   "id": "ddf2b37d",
   "metadata": {},
   "outputs": [],
   "source": []
  },
  {
   "cell_type": "code",
   "execution_count": 27,
   "id": "f96ebe6c",
   "metadata": {},
   "outputs": [],
   "source": [
    "tuple_example=[1,2,3,4,5]"
   ]
  },
  {
   "cell_type": "code",
   "execution_count": 28,
   "id": "9b7f9dc2",
   "metadata": {},
   "outputs": [
    {
     "name": "stdout",
     "output_type": "stream",
     "text": [
      "1\n",
      "2\n",
      "3\n",
      "4\n",
      "5\n"
     ]
    }
   ],
   "source": [
    "for i in tuple_example:\n",
    "    print(i)"
   ]
  },
  {
   "cell_type": "code",
   "execution_count": null,
   "id": "b239dbda",
   "metadata": {},
   "outputs": [],
   "source": []
  },
  {
   "cell_type": "code",
   "execution_count": null,
   "id": "67dfd922",
   "metadata": {},
   "outputs": [],
   "source": []
  },
  {
   "cell_type": "code",
   "execution_count": 33,
   "id": "7e1662f3",
   "metadata": {},
   "outputs": [
    {
     "name": "stdout",
     "output_type": "stream",
     "text": [
      "key :  name , value :  salman\n",
      "key :  from , value :  TN\n"
     ]
    }
   ],
   "source": [
    "dict_example={\"name\":\"salman\",\"from\":\"TN\"}\n",
    "\n",
    "for i,j in dict_example.items():\n",
    "    print(\"key : \",i, \", value : \",j)"
   ]
  },
  {
   "cell_type": "code",
   "execution_count": null,
   "id": "cc2f83d5",
   "metadata": {},
   "outputs": [],
   "source": []
  },
  {
   "cell_type": "code",
   "execution_count": null,
   "id": "41453a9a",
   "metadata": {},
   "outputs": [],
   "source": []
  },
  {
   "cell_type": "code",
   "execution_count": 39,
   "id": "e165bccf",
   "metadata": {
    "colab": {},
    "colab_type": "code",
    "id": "DExk1w59DH8u",
    "outputId": "f4adf168-1217-46b1-de59-33f4735c1996"
   },
   "outputs": [
    {
     "name": "stdout",
     "output_type": "stream",
     "text": [
      "0\n",
      "1\n",
      "2\n",
      "3\n",
      "4\n",
      "5\n",
      "6\n",
      "7\n",
      "8\n",
      "9\n"
     ]
    }
   ],
   "source": [
    "a=0\n",
    "while a<10:\n",
    "    print(a)\n",
    "    # below line satisfies the condition \n",
    "    a=a+1"
   ]
  },
  {
   "cell_type": "code",
   "execution_count": null,
   "id": "1c1b5c45",
   "metadata": {},
   "outputs": [],
   "source": []
  },
  {
   "cell_type": "code",
   "execution_count": 41,
   "id": "08a73dd5",
   "metadata": {},
   "outputs": [
    {
     "name": "stdout",
     "output_type": "stream",
     "text": [
      "0\n",
      "1\n",
      "2\n",
      "3\n",
      "4\n",
      "6\n",
      "7\n",
      "8\n",
      "9\n"
     ]
    }
   ],
   "source": [
    "for i in range(0,10,1):\n",
    "    if i==5:\n",
    "        continue\n",
    "    print(i)"
   ]
  },
  {
   "cell_type": "code",
   "execution_count": null,
   "id": "f030f466",
   "metadata": {},
   "outputs": [],
   "source": []
  },
  {
   "cell_type": "code",
   "execution_count": null,
   "id": "857a3545",
   "metadata": {},
   "outputs": [],
   "source": []
  },
  {
   "cell_type": "markdown",
   "id": "a68b69a5",
   "metadata": {},
   "source": [
    "# Exception Handling"
   ]
  },
  {
   "cell_type": "code",
   "execution_count": 45,
   "id": "4073a88b",
   "metadata": {},
   "outputs": [
    {
     "ename": "ZeroDivisionError",
     "evalue": "division by zero",
     "output_type": "error",
     "traceback": [
      "\u001b[1;31m---------------------------------------------------------------------------\u001b[0m",
      "\u001b[1;31mZeroDivisionError\u001b[0m                         Traceback (most recent call last)",
      "\u001b[1;32m~\\AppData\\Local\\Temp\\ipykernel_26132\\3150626867.py\u001b[0m in \u001b[0;36m<module>\u001b[1;34m\u001b[0m\n\u001b[1;32m----> 1\u001b[1;33m \u001b[1;36m3\u001b[0m\u001b[1;33m/\u001b[0m\u001b[1;36m0\u001b[0m\u001b[1;33m\u001b[0m\u001b[1;33m\u001b[0m\u001b[0m\n\u001b[0m",
      "\u001b[1;31mZeroDivisionError\u001b[0m: division by zero"
     ]
    }
   ],
   "source": [
    "3/0"
   ]
  },
  {
   "cell_type": "code",
   "execution_count": 51,
   "id": "dd67a159",
   "metadata": {},
   "outputs": [
    {
     "name": "stdout",
     "output_type": "stream",
     "text": [
      "value of c is  1.0\n",
      "if not error ill come\n",
      "this prints whatever happens\n"
     ]
    }
   ],
   "source": [
    "try:\n",
    "    a=10\n",
    "    b=10\n",
    "    c=a/b\n",
    "    print(\"value of c is \" ,c )\n",
    "    \n",
    "    \n",
    "except:\n",
    "    print('you cant divide a number by zero\\n')\n",
    "    \n",
    "    \n",
    "else:\n",
    "    print(\"if not error ill come\")\n",
    "    \n",
    "    \n",
    "finally:\n",
    "    print(\"this prints whatever happens\")"
   ]
  },
  {
   "cell_type": "code",
   "execution_count": null,
   "id": "10293b2b",
   "metadata": {},
   "outputs": [],
   "source": []
  },
  {
   "cell_type": "markdown",
   "id": "749de65d",
   "metadata": {
    "colab_type": "text",
    "id": "Sq3VuC-bDH85"
   },
   "source": [
    "# Function"
   ]
  },
  {
   "cell_type": "code",
   "execution_count": 58,
   "id": "2470155f",
   "metadata": {
    "colab": {},
    "colab_type": "code",
    "id": "DVrwUjVcDH86"
   },
   "outputs": [],
   "source": [
    "# a and b are parameters\n",
    "def add(a,b):\n",
    "    \n",
    "    print(\"sum is\",a+b)\n",
    "    "
   ]
  },
  {
   "cell_type": "code",
   "execution_count": 59,
   "id": "ada42027",
   "metadata": {
    "colab": {},
    "colab_type": "code",
    "id": "U0PA5GxHDH8-",
    "outputId": "5df5fb2b-aa0b-41dd-9b10-541979d7ee7c"
   },
   "outputs": [
    {
     "name": "stdout",
     "output_type": "stream",
     "text": [
      "sum is 25\n"
     ]
    }
   ],
   "source": [
    "# 10 and 15 are arguments \n",
    "add(10,15)"
   ]
  },
  {
   "cell_type": "code",
   "execution_count": 19,
   "id": "ca093611",
   "metadata": {},
   "outputs": [
    {
     "name": "stdout",
     "output_type": "stream",
     "text": [
      "sum is 25\n"
     ]
    }
   ],
   "source": [
    "output=add(10,15)"
   ]
  },
  {
   "cell_type": "code",
   "execution_count": 20,
   "id": "edf2f26a",
   "metadata": {
    "colab": {},
    "colab_type": "code",
    "id": "xQ0FnhllDH9G"
   },
   "outputs": [
    {
     "name": "stdout",
     "output_type": "stream",
     "text": [
      "None\n"
     ]
    }
   ],
   "source": [
    "# nothing is stored because nothing is returned\n",
    "print(output)"
   ]
  },
  {
   "cell_type": "code",
   "execution_count": null,
   "id": "95ed40cb",
   "metadata": {},
   "outputs": [],
   "source": []
  },
  {
   "cell_type": "code",
   "execution_count": 60,
   "id": "8d774459",
   "metadata": {
    "colab": {},
    "colab_type": "code",
    "id": "ni5WSaeRDH9J"
   },
   "outputs": [],
   "source": [
    "def my_function(x):\n",
    "    \n",
    "    a=x+5\n",
    "    return a "
   ]
  },
  {
   "cell_type": "code",
   "execution_count": 61,
   "id": "d94b1fd6",
   "metadata": {
    "colab": {},
    "colab_type": "code",
    "id": "i2b0-utxDH9O"
   },
   "outputs": [],
   "source": [
    "nk=my_function(3)"
   ]
  },
  {
   "cell_type": "code",
   "execution_count": 62,
   "id": "785c2b77",
   "metadata": {
    "colab": {},
    "colab_type": "code",
    "id": "1ibtJiBaDH9Q",
    "outputId": "e7214844-102a-4588-9e70-3ed95f045538"
   },
   "outputs": [
    {
     "data": {
      "text/plain": [
       "8"
      ]
     },
     "execution_count": 62,
     "metadata": {},
     "output_type": "execute_result"
    }
   ],
   "source": [
    "nk"
   ]
  },
  {
   "cell_type": "code",
   "execution_count": null,
   "id": "1372d6b4",
   "metadata": {},
   "outputs": [],
   "source": []
  },
  {
   "cell_type": "code",
   "execution_count": null,
   "id": "d6bf7412",
   "metadata": {},
   "outputs": [],
   "source": []
  },
  {
   "cell_type": "code",
   "execution_count": 63,
   "id": "a7d84c9c",
   "metadata": {},
   "outputs": [],
   "source": [
    "def test_function(a=2):\n",
    "    \n",
    "    a=a+5\n",
    "    return a \n",
    "\n"
   ]
  },
  {
   "cell_type": "code",
   "execution_count": 64,
   "id": "667daec0",
   "metadata": {},
   "outputs": [
    {
     "data": {
      "text/plain": [
       "7"
      ]
     },
     "execution_count": 64,
     "metadata": {},
     "output_type": "execute_result"
    }
   ],
   "source": [
    "test_function()"
   ]
  },
  {
   "cell_type": "code",
   "execution_count": 26,
   "id": "9b93d7df",
   "metadata": {},
   "outputs": [
    {
     "data": {
      "text/plain": [
       "10"
      ]
     },
     "execution_count": 26,
     "metadata": {},
     "output_type": "execute_result"
    }
   ],
   "source": [
    "test_function(5)"
   ]
  },
  {
   "cell_type": "code",
   "execution_count": null,
   "id": "a490ffb9",
   "metadata": {},
   "outputs": [],
   "source": []
  },
  {
   "cell_type": "code",
   "execution_count": null,
   "id": "c77b6a1c",
   "metadata": {},
   "outputs": [],
   "source": []
  },
  {
   "cell_type": "code",
   "execution_count": 27,
   "id": "b5f58801",
   "metadata": {},
   "outputs": [
    {
     "ename": "SyntaxError",
     "evalue": "non-default argument follows default argument (1748649523.py, line 1)",
     "output_type": "error",
     "traceback": [
      "\u001b[1;36m  File \u001b[1;32m\"C:\\Users\\faroz\\AppData\\Local\\Temp\\ipykernel_34940\\1748649523.py\"\u001b[1;36m, line \u001b[1;32m1\u001b[0m\n\u001b[1;33m    def mine(a=2, b, c=10):\u001b[0m\n\u001b[1;37m            ^\u001b[0m\n\u001b[1;31mSyntaxError\u001b[0m\u001b[1;31m:\u001b[0m non-default argument follows default argument\n"
     ]
    }
   ],
   "source": [
    "def mine(a=2, b, c=10):\n",
    "    \n",
    "    a=a+5\n",
    "    return a \n"
   ]
  },
  {
   "cell_type": "code",
   "execution_count": 91,
   "id": "a21edbbd",
   "metadata": {},
   "outputs": [],
   "source": [
    "def mine(b, a=2, c=10):\n",
    "    \n",
    "    a=a+5\n",
    "    return a \n"
   ]
  },
  {
   "cell_type": "code",
   "execution_count": null,
   "id": "5cceb9c9",
   "metadata": {},
   "outputs": [],
   "source": []
  },
  {
   "cell_type": "markdown",
   "id": "3fa8dc15",
   "metadata": {
    "colab_type": "text",
    "id": "vjZ_kYtiDH9V"
   },
   "source": [
    "# Lambda function"
   ]
  },
  {
   "cell_type": "markdown",
   "id": "f63f370b",
   "metadata": {
    "colab_type": "text",
    "id": "7zI6tVbJGteb"
   },
   "source": [
    "![alt text](https://i1.faceprep.in/Companies-1/python-lambda-functions-new.png)"
   ]
  },
  {
   "cell_type": "code",
   "execution_count": 65,
   "id": "4dad6a76",
   "metadata": {
    "colab": {},
    "colab_type": "code",
    "id": "-EkCo7N_DH9W"
   },
   "outputs": [],
   "source": [
    "x = lambda b:b + 100"
   ]
  },
  {
   "cell_type": "code",
   "execution_count": 93,
   "id": "6df495ce",
   "metadata": {
    "colab": {},
    "colab_type": "code",
    "id": "S37_efNtDH9Y",
    "outputId": "c756daaa-544b-43a5-d6a1-48973a7597da"
   },
   "outputs": [
    {
     "data": {
      "text/plain": [
       "101"
      ]
     },
     "execution_count": 93,
     "metadata": {},
     "output_type": "execute_result"
    }
   ],
   "source": [
    "x(1)"
   ]
  },
  {
   "cell_type": "code",
   "execution_count": null,
   "id": "1f4c9341",
   "metadata": {},
   "outputs": [],
   "source": []
  },
  {
   "cell_type": "code",
   "execution_count": null,
   "id": "c2c6b8df",
   "metadata": {},
   "outputs": [],
   "source": []
  },
  {
   "cell_type": "code",
   "execution_count": 63,
   "id": "2986a33a",
   "metadata": {},
   "outputs": [],
   "source": [
    "def add(a , b):\n",
    "    print(a+b)"
   ]
  },
  {
   "cell_type": "code",
   "execution_count": 64,
   "id": "fd370543",
   "metadata": {},
   "outputs": [
    {
     "name": "stdout",
     "output_type": "stream",
     "text": [
      "3\n"
     ]
    }
   ],
   "source": [
    "add(1,2)"
   ]
  },
  {
   "cell_type": "code",
   "execution_count": 65,
   "id": "c0de85b3",
   "metadata": {},
   "outputs": [
    {
     "ename": "TypeError",
     "evalue": "add() takes 2 positional arguments but 3 were given",
     "output_type": "error",
     "traceback": [
      "\u001b[1;31m---------------------------------------------------------------------------\u001b[0m",
      "\u001b[1;31mTypeError\u001b[0m                                 Traceback (most recent call last)",
      "\u001b[1;32m~\\AppData\\Local\\Temp\\ipykernel_30548\\543418414.py\u001b[0m in \u001b[0;36m<module>\u001b[1;34m\u001b[0m\n\u001b[1;32m----> 1\u001b[1;33m \u001b[0madd\u001b[0m\u001b[1;33m(\u001b[0m\u001b[1;36m1\u001b[0m\u001b[1;33m,\u001b[0m\u001b[1;36m2\u001b[0m\u001b[1;33m,\u001b[0m\u001b[1;36m3\u001b[0m\u001b[1;33m)\u001b[0m\u001b[1;33m\u001b[0m\u001b[1;33m\u001b[0m\u001b[0m\n\u001b[0m",
      "\u001b[1;31mTypeError\u001b[0m: add() takes 2 positional arguments but 3 were given"
     ]
    }
   ],
   "source": [
    "add(1,2,3)"
   ]
  },
  {
   "cell_type": "code",
   "execution_count": null,
   "id": "2bf862fe",
   "metadata": {},
   "outputs": [],
   "source": []
  },
  {
   "cell_type": "markdown",
   "id": "95678494",
   "metadata": {},
   "source": [
    "\n",
    "### *args (Non Keyword Arguments)"
   ]
  },
  {
   "cell_type": "code",
   "execution_count": 66,
   "id": "81eea62a",
   "metadata": {},
   "outputs": [],
   "source": [
    "def test(*values):\n",
    "    print(values)\n",
    "    print(type(values))"
   ]
  },
  {
   "cell_type": "code",
   "execution_count": 67,
   "id": "267683e4",
   "metadata": {},
   "outputs": [
    {
     "name": "stdout",
     "output_type": "stream",
     "text": [
      "(1, 3, 2, 4)\n",
      "<class 'tuple'>\n"
     ]
    }
   ],
   "source": [
    "test(1,3,2,4)"
   ]
  },
  {
   "cell_type": "code",
   "execution_count": 57,
   "id": "ad41aae5",
   "metadata": {},
   "outputs": [],
   "source": [
    "def test(*values):\n",
    "    for i in values:\n",
    "        i=i+i\n",
    "    print(i)"
   ]
  },
  {
   "cell_type": "code",
   "execution_count": 58,
   "id": "dbf962a5",
   "metadata": {},
   "outputs": [
    {
     "name": "stdout",
     "output_type": "stream",
     "text": [
      "6\n"
     ]
    }
   ],
   "source": [
    "test(4,3)"
   ]
  },
  {
   "cell_type": "code",
   "execution_count": null,
   "id": "16d5fcad",
   "metadata": {},
   "outputs": [],
   "source": []
  },
  {
   "cell_type": "code",
   "execution_count": null,
   "id": "0c4c216b",
   "metadata": {},
   "outputs": [],
   "source": []
  },
  {
   "cell_type": "markdown",
   "id": "dc85c2b8",
   "metadata": {},
   "source": [
    "### **kwargs (Keyword Arguments)"
   ]
  },
  {
   "cell_type": "code",
   "execution_count": 62,
   "id": "bd7aa123",
   "metadata": {},
   "outputs": [
    {
     "name": "stdout",
     "output_type": "stream",
     "text": [
      "<class 'dict'>\n",
      "Name is salman\n",
      "Loction is tn\n"
     ]
    }
   ],
   "source": [
    "def mine(**values):\n",
    "    print(type(values))\n",
    "    for key, value in values.items():\n",
    "        print(\"{} is {}\".format(key,value))\n",
    "\n",
    "mine(Name=\"salman\",Loction=\"tn\")"
   ]
  },
  {
   "cell_type": "code",
   "execution_count": null,
   "id": "98e9a014",
   "metadata": {},
   "outputs": [],
   "source": []
  },
  {
   "cell_type": "code",
   "execution_count": null,
   "id": "96a9e851",
   "metadata": {},
   "outputs": [],
   "source": []
  },
  {
   "cell_type": "code",
   "execution_count": null,
   "id": "eb77b98c",
   "metadata": {},
   "outputs": [],
   "source": []
  },
  {
   "cell_type": "code",
   "execution_count": null,
   "id": "82b4094d",
   "metadata": {},
   "outputs": [],
   "source": []
  },
  {
   "cell_type": "code",
   "execution_count": null,
   "id": "1aa8d194",
   "metadata": {},
   "outputs": [],
   "source": []
  },
  {
   "cell_type": "code",
   "execution_count": null,
   "id": "f969eca9",
   "metadata": {},
   "outputs": [],
   "source": []
  },
  {
   "cell_type": "markdown",
   "id": "fc747070",
   "metadata": {},
   "source": [
    "# Class"
   ]
  },
  {
   "cell_type": "code",
   "execution_count": 48,
   "id": "2f350121",
   "metadata": {},
   "outputs": [],
   "source": [
    "class collge:\n",
    "    \n",
    "    #optional\n",
    "    # constructor\n",
    "    def __init__(self, user=\"sir/madam\"):\n",
    "        print(\"welcome to our college\", user)\n",
    "    \n",
    "    def mech(self):\n",
    "        print(\"mech dept book fees is 10k\")\n",
    "        \n",
    "    def eee(self):\n",
    "        print(\"eee dept book fees is 20k\")\n",
    "        \n",
    "    def ece(self):\n",
    "        print(\"ece dept book fees is 30k\")\n",
    "    \n",
    "    #optional\n",
    "    # destructor\n",
    "    def __del__(self):\n",
    "        print(\"used to destroy the object\")"
   ]
  },
  {
   "cell_type": "code",
   "execution_count": 49,
   "id": "297bce36",
   "metadata": {},
   "outputs": [
    {
     "name": "stdout",
     "output_type": "stream",
     "text": [
      "welcome to our college AK\n"
     ]
    }
   ],
   "source": [
    "obj=collge(user=\"AK\")"
   ]
  },
  {
   "cell_type": "code",
   "execution_count": 50,
   "id": "82f9516a",
   "metadata": {},
   "outputs": [
    {
     "name": "stdout",
     "output_type": "stream",
     "text": [
      "mech dept book fees is 10k\n"
     ]
    }
   ],
   "source": [
    "obj.mech()"
   ]
  },
  {
   "cell_type": "code",
   "execution_count": 51,
   "id": "be1e4a9d",
   "metadata": {},
   "outputs": [
    {
     "name": "stdout",
     "output_type": "stream",
     "text": [
      "used to destroy the object\n"
     ]
    }
   ],
   "source": [
    "del obj"
   ]
  },
  {
   "cell_type": "code",
   "execution_count": 52,
   "id": "21cdffba",
   "metadata": {},
   "outputs": [
    {
     "ename": "NameError",
     "evalue": "name 'obj' is not defined",
     "output_type": "error",
     "traceback": [
      "\u001b[1;31m---------------------------------------------------------------------------\u001b[0m",
      "\u001b[1;31mNameError\u001b[0m                                 Traceback (most recent call last)",
      "\u001b[1;32m~\\AppData\\Local\\Temp\\ipykernel_34940\\2073420049.py\u001b[0m in \u001b[0;36m<module>\u001b[1;34m\u001b[0m\n\u001b[1;32m----> 1\u001b[1;33m \u001b[0mobj\u001b[0m\u001b[1;33m.\u001b[0m\u001b[0mmech\u001b[0m\u001b[1;33m(\u001b[0m\u001b[1;33m)\u001b[0m\u001b[1;33m\u001b[0m\u001b[1;33m\u001b[0m\u001b[0m\n\u001b[0m",
      "\u001b[1;31mNameError\u001b[0m: name 'obj' is not defined"
     ]
    }
   ],
   "source": [
    "obj.mech()"
   ]
  },
  {
   "cell_type": "code",
   "execution_count": null,
   "id": "eee1e56a",
   "metadata": {},
   "outputs": [],
   "source": []
  },
  {
   "cell_type": "code",
   "execution_count": null,
   "id": "387f27a1",
   "metadata": {},
   "outputs": [],
   "source": []
  },
  {
   "cell_type": "code",
   "execution_count": 13,
   "id": "8d86b38d",
   "metadata": {
    "colab": {},
    "colab_type": "code",
    "id": "9uYBAJNRDH9u"
   },
   "outputs": [],
   "source": [
    "class Person:\n",
    "    \n",
    "    def add(self, name):\n",
    "        self.name = name\n",
    "        \n",
    "    def myfunc(self):\n",
    "        print(\"Hello my name is \" + self.name)\n",
    "\n"
   ]
  },
  {
   "cell_type": "code",
   "execution_count": 14,
   "id": "70f22244",
   "metadata": {
    "colab": {},
    "colab_type": "code",
    "id": "Il-AprCVDH90"
   },
   "outputs": [],
   "source": [
    "p1 = Person()\n",
    "p1.add(\"stsfaroz\")"
   ]
  },
  {
   "cell_type": "code",
   "execution_count": 15,
   "id": "5c4410c9",
   "metadata": {
    "colab": {},
    "colab_type": "code",
    "id": "_nDtLq2uDH94",
    "outputId": "b7ca9ba2-671a-4af3-8340-588724aed505"
   },
   "outputs": [
    {
     "name": "stdout",
     "output_type": "stream",
     "text": [
      "Hello my name is stsfaroz\n"
     ]
    }
   ],
   "source": [
    "p1.myfunc()"
   ]
  },
  {
   "cell_type": "code",
   "execution_count": null,
   "id": "18426b5b",
   "metadata": {},
   "outputs": [],
   "source": []
  },
  {
   "cell_type": "code",
   "execution_count": null,
   "id": "40eabab8",
   "metadata": {},
   "outputs": [],
   "source": []
  },
  {
   "cell_type": "markdown",
   "id": "67082e04",
   "metadata": {
    "colab_type": "text",
    "id": "tRc5y8JqDH-Z"
   },
   "source": [
    "# Example:"
   ]
  },
  {
   "cell_type": "code",
   "execution_count": 16,
   "id": "35147301",
   "metadata": {
    "colab": {},
    "colab_type": "code",
    "id": "et7Xt6HlDH-a"
   },
   "outputs": [],
   "source": [
    "class calci:\n",
    "    def __init__(self):\n",
    "        print(\"Welcome to my calci\")\n",
    "    def add(self,a,b):\n",
    "        print(\"adding\",a+b)\n",
    "    def sub(self,a,b):\n",
    "        print(\"sub : \",a-b)\n",
    "    def mul(self,a,b):\n",
    "        print(\"mul :\",a*b)\n",
    "    def div(self,a,b):\n",
    "        print(\"div :\",a/b)"
   ]
  },
  {
   "cell_type": "code",
   "execution_count": 17,
   "id": "4e72a0dc",
   "metadata": {
    "colab": {},
    "colab_type": "code",
    "id": "rOcWmez1DH-n",
    "outputId": "191d58bc-9f7a-4ed8-f823-92ca170e38f1"
   },
   "outputs": [
    {
     "name": "stdout",
     "output_type": "stream",
     "text": [
      "Welcome to my calci\n",
      "div : 0.6666666666666666\n"
     ]
    }
   ],
   "source": [
    "obj=calci()\n",
    "obj.div(2,3)"
   ]
  },
  {
   "cell_type": "code",
   "execution_count": null,
   "id": "4002d376",
   "metadata": {
    "colab": {},
    "colab_type": "code",
    "id": "TlCjp6AmDH-q",
    "outputId": "33453939-c3d8-438f-e2b7-caa45874e171"
   },
   "outputs": [],
   "source": []
  },
  {
   "cell_type": "code",
   "execution_count": null,
   "id": "93105da3",
   "metadata": {},
   "outputs": [],
   "source": []
  },
  {
   "cell_type": "code",
   "execution_count": null,
   "id": "21212903",
   "metadata": {},
   "outputs": [],
   "source": []
  },
  {
   "cell_type": "code",
   "execution_count": null,
   "id": "a5b0bc9c",
   "metadata": {},
   "outputs": [],
   "source": []
  }
 ],
 "metadata": {
  "kernelspec": {
   "display_name": "Python 3 (ipykernel)",
   "language": "python",
   "name": "python3"
  },
  "language_info": {
   "codemirror_mode": {
    "name": "ipython",
    "version": 3
   },
   "file_extension": ".py",
   "mimetype": "text/x-python",
   "name": "python",
   "nbconvert_exporter": "python",
   "pygments_lexer": "ipython3",
   "version": "3.7.13"
  }
 },
 "nbformat": 4,
 "nbformat_minor": 5
}
